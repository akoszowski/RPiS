{
 "cells": [
  {
   "cell_type": "code",
   "execution_count": 1,
   "metadata": {},
   "outputs": [],
   "source": [
    "import math\n",
    "import numpy as np\n",
    "import pandas as pd\n",
    "import matplotlib.pyplot as plt"
   ]
  },
  {
   "cell_type": "markdown",
   "metadata": {},
   "source": [
    "# Discrete sampling\n",
    "In the last problem of the first session we sampled with given probabilities using prefix sums and binary search. The sampling code is the bottleneck of the whole process, its running times is 3 times higher than the code for uniform probabilities, and the difference would only increase for larger number of outcomes. In the next two problems we discuss two simple, but powerful techniques one can use to sample in time $O(1)$."
   ]
  },
  {
   "cell_type": "markdown",
   "metadata": {},
   "source": [
    "**Problem 2a.** Consider the problem of sampling with known probabilities $p_1,\\ldots,p_d$. Suppose that you have a black-box that samples with probabilities $q_1,\\ldots,q_d$ that are close to $p_1,\\ldots,p_d$, say\n",
    "$$ \\forall_{i=1,\\ldots,n} p_i \\le (1+\\varepsilon)q_i.$$\n",
    "\n",
    "* How can you use this black-box to sample with probabilities $p_1,\\ldots,p_d$? It is expected, that the running time of the algorithm would be non-deterministic.\n",
    "* Prove that your algorithm is correct.\n",
    "* Implement the algorithm and use it to give a faster implementation for **Problem 1c**.\n",
    "\n",
    "$$ q_i = 1 / d $$\n",
    "$$ \\frac{p_i\\prime}{q_i} = \\frac{p_i}{q_i * (1 + \\epsilon)} = \\frac{p_i}{p_{max}} $$"
   ]
  },
  {
   "cell_type": "code",
   "execution_count": 2,
   "metadata": {},
   "outputs": [
    {
     "name": "stdout",
     "output_type": "stream",
     "text": [
      "15.5 s ± 468 ms per loop (mean ± std. dev. of 7 runs, 1 loop each)\n"
     ]
    }
   ],
   "source": [
    "import random\n",
    "\n",
    "\n",
    "stats = np.loadtxt('us_births_69_88.csv', skiprows=1, delimiter=',', dtype=int)\n",
    "\n",
    "\n",
    "def create_sample(counts):\n",
    "    max_count = np.max(counts)\n",
    "    size = counts.shape[0]\n",
    "    \n",
    "    def sample():\n",
    "        day = random.randint(0, size - 1)\n",
    "        if random.randint(1, max_count) <= counts[day]:\n",
    "            return day\n",
    "        return sample()\n",
    "    return sample\n",
    "\n",
    "def emp_dates(size, sample):\n",
    "    s = set()\n",
    "    for k in range(size + 1):\n",
    "        day = sample()\n",
    "        if day in s:\n",
    "            return k + 1\n",
    "        else:\n",
    "            s.add(day)"
   ]
  },
  {
   "cell_type": "code",
   "execution_count": 3,
   "metadata": {},
   "outputs": [
    {
     "name": "stdout",
     "output_type": "stream",
     "text": [
      "CPU times: user 15.4 s, sys: 11.6 ms, total: 15.5 s\n",
      "Wall time: 15.5 s\n"
     ]
    }
   ],
   "source": [
    "%%time\n",
    "\n",
    "N = 100000\n",
    "size = stats.shape[0]\n",
    "sample = create_sample(stats[:, 2])\n",
    "emp_sample = [emp_dates(size, sample) for iter in range(N)]"
   ]
  },
  {
   "cell_type": "code",
   "execution_count": 4,
   "metadata": {},
   "outputs": [
    {
     "data": {
      "image/png": "[encoded data removed]",
      "text/plain": [
       "<Figure size 864x432 with 1 Axes>"
      ]
     },
     "metadata": {
      "needs_background": "light"
     },
     "output_type": "display_data"
    },
    {
     "name": "stdout",
     "output_type": "stream",
     "text": [
      "Couple first most likely values: [21 18 19 22 20 17 24 23 25 26]\n",
      "Average value: 24.61854\n"
     ]
    }
   ],
   "source": [
    "plt.figure(figsize=(12, 6))\n",
    "plt.hist(emp_sample, bins=range(1, 101))\n",
    "plt.show()\n",
    "\n",
    "vals, counts = np.unique(emp_sample, return_counts=True)\n",
    "k_counts = vals[np.argsort(counts)][::-1]\n",
    "\n",
    "print('Couple first most likely values: {}'.format(k_counts[:10]))\n",
    "print('Average value: {}'.format(np.mean(emp_sample)))"
   ]
  },
  {
   "cell_type": "markdown",
   "metadata": {},
   "source": [
    "**Problem 2b.** One of the reasons this implementation is not significantly faster than the one in **Problem 1c** , apart from $d$ being rather small, is that we are using Python's interpreter a bit too much, and Python is slow. One way around this is usually to use a library function - **searchsorted** is much faster than an equivalent code implemented in pure Python. But even if the functionality you need is not implemented in a lower level language as\n",
    "a library function, there is still hope. You can try to implement it using optimized array algebra, for example using **numpy**. In this problem, your task is to rewrite the previous algorithm, so that the amount of *looping* is reduced to a minimum necessary. In particular, you should create a *vectorized* version of random dates generation (in bulk), while the actual search for duplicates remains a loop with a **set**. Here are some useful tips:\n",
    "   * You can perform arithmetic, comparisons, etc. on **numpy** arrays.\n",
    "   * You can generate whole **numpy** arrays of random numbers at once.\n",
    "   * You can even perform parallel look-up like in the example below."
   ]
  },
  {
   "cell_type": "code",
   "execution_count": 5,
   "metadata": {},
   "outputs": [
    {
     "name": "stdout",
     "output_type": "stream",
     "text": [
      "[3 3 7 7]\n",
      "[2 1 4]\n"
     ]
    }
   ],
   "source": [
    "X = np.array([10,3,7])\n",
    "I = np.array([1,1,2,2])\n",
    "print(X[I])\n",
    "X = np.array([[1,2],[3,4]])\n",
    "I = np.array([0,0,1])\n",
    "J = np.array([1,0,1])\n",
    "print(X[I,J])"
   ]
  },
  {
   "cell_type": "code",
   "execution_count": 5,
   "metadata": {},
   "outputs": [],
   "source": [
    "# vectorised version of sample() function\n",
    "# instead of recursive call we do not return anything\n",
    "def create_sample_vec(counts, sample_size):\n",
    "    max_count = np.max(counts)\n",
    "    size = counts.shape[0]\n",
    "    \n",
    "    sample_size = int(sample_size * 1.2) # just to be sure we create enough samples\n",
    "    \n",
    "    days = np.random.randint(0, size, sample_size)\n",
    "    ok = np.random.randint(1, max_count + 1, sample_size) <= counts[days, 2]\n",
    "    days = days[ok]\n",
    "    return days\n",
    "\n",
    "def emp_dates_vec(sample):\n",
    "    dates = []\n",
    "    s = set()\n",
    "    k = 0\n",
    "    for day in sample:\n",
    "        k += 1\n",
    "        if day in s:\n",
    "            dates.append(k)\n",
    "            k = 0\n",
    "            s.clear()\n",
    "        else:\n",
    "            s.add(day)\n",
    "    return dates"
   ]
  },
  {
   "cell_type": "code",
   "execution_count": 6,
   "metadata": {},
   "outputs": [
    {
     "name": "stdout",
     "output_type": "stream",
     "text": [
      "Size of sample: 108524\n",
      "CPU times: user 1.79 s, sys: 56.6 ms, total: 1.84 s\n",
      "Wall time: 1.85 s\n"
     ]
    }
   ],
   "source": [
    "%%time\n",
    "\n",
    "days = create_sample_vec(stats, N * 25) # average value of first repeats is lower than 25\n",
    "emp_sample = emp_dates_vec(days)\n",
    "print('Size of sample: {}'.format(len(emp_sample)))"
   ]
  },
  {
   "cell_type": "code",
   "execution_count": 7,
   "metadata": {},
   "outputs": [
    {
     "data": {
      "image/png": "[encoded data removed]",
      "text/plain": [
       "<Figure size 864x432 with 1 Axes>"
      ]
     },
     "metadata": {
      "needs_background": "light"
     },
     "output_type": "display_data"
    }
   ],
   "source": [
    "plt.figure(figsize=(12, 6))\n",
    "plt.hist(emp_sample, bins=range(1, 101))\n",
    "plt.show()"
   ]
  },
  {
   "cell_type": "markdown",
   "metadata": {},
   "source": [
    "**Problem 2c (Squaring the histogram).** In this problem, we again want to sample with known probabilities $p_1,\\ldots,p_n$, but this time we make no assumptions on $p_i$. Consider the following algorithm:\n",
    "   * Let $V$ be the mean of $p_i$, i.e. $V=\\frac{1}{n}$.\n",
    "   * Create $n$ buckets, each with volume $V$, put each $p_i$ into a separate bucket.\n",
    "   * Until there exists a bucket $A$ that is not full, find a bucket $B$ that overflows, and trasfer probability from $B$ to $A$ until $A$ is exactly full\n",
    "\n",
    "Show that:\n",
    "   * This algorithm always ends.\n",
    "   * When it ends, each bucket contains pieces of exactly two $p_i$'s.\n",
    "\n",
    "How to use the result of this algorithm to sample with probabilities $p_i$. Argue that your algorithm is correct and implement it. The sampling part should be *vectorized*. Use this algorithm to sample birthdates again, and test its efficiency.\n",
    "\n",
    "\n",
    "1. Algorithm always ends since each time we find bucket that overflows, there exists bucket that is not full. It is guaranteed - sum of probabilities equals 1. Each time, after such operation we have one more full bucket.\n",
    "2. At the beginning each bucket contains exactly one piece of $p_i$. We don't modify buckets that are already full. Each time, when there are still not full buckets, we choose one of them, there must be exactly one piece. Also in buckets that overflow must be exactly one piece. So after filling the first bucket up it will then contain exactly two pieces and in future will not be modified. Still the rest of buckets not having exact volume contain exactly one piece.\n",
    "\n",
    "This approach enables us to sample in $O(1)$. In general, each $p_i$ is maintained, but they may be part of maximally two buckets. All we have to do is choose a bucket and then for this bucket sample from $[0, 1]$, determining which $p_i$ piece we are to choose (of course if there is only one, choice is rather awkward). These way we make exactly 2 operations to sample a day what is significant improvement (in comparison to 1.c) - it is deterministically defined."
   ]
  },
  {
   "cell_type": "code",
   "execution_count": 73,
   "metadata": {},
   "outputs": [],
   "source": [
    "import queue\n",
    "\n",
    "stats = np.loadtxt('us_births_69_88.csv', skiprows=1, delimiter=',', dtype=int)\n",
    "\n",
    "size = stats.shape[0]\n",
    "stats = np.transpose(stats)\n",
    "counts_sum = np.sum(stats[2])\n",
    "\n",
    "# Initializing bucket array in such way to avoid division by size\n",
    "bucket = np.zeros((2, size))\n",
    "bucket[0] = stats[2] * size"
   ]
  },
  {
   "cell_type": "code",
   "execution_count": 74,
   "metadata": {},
   "outputs": [],
   "source": [
    "def equalise(bucket):\n",
    "    over = queue.Queue()\n",
    "    under = queue.Queue()\n",
    "\n",
    "    def check_volume(vol, id):\n",
    "        if vol > counts_sum:\n",
    "            over.put(id)\n",
    "        elif vol < counts_sum:\n",
    "            under.put(id)\n",
    "    \n",
    "    for i in range(size):\n",
    "        check_volume(bucket[0][i], i)\n",
    "        \n",
    "    while not (over.empty()):\n",
    "        to_spill = over.get()\n",
    "        to_fill = under.get()\n",
    "        bucket[0][to_spill] = bucket[0][to_spill] - counts_sum + bucket[0][to_fill]\n",
    "        bucket[1][to_fill] = to_spill\n",
    "        check_volume(bucket[0][to_spill], to_spill)\n",
    "        \n",
    "    return bucket"
   ]
  },
  {
   "cell_type": "code",
   "execution_count": 75,
   "metadata": {},
   "outputs": [],
   "source": [
    "def sample(bucket):\n",
    "    id = random.randint(0, size - 1)\n",
    "    if random.randint(1, counts_sum) <= bucket[0][id]:\n",
    "        return id + 1\n",
    "    return bucket[1][id] + 1\n",
    "\n",
    "def dates(bucket):\n",
    "    s = set()\n",
    "    for k in range(size + 1):\n",
    "        day = sample(bucket)\n",
    "        if day in s:\n",
    "            return k + 1\n",
    "        else:\n",
    "            s.add(day)"
   ]
  },
  {
   "cell_type": "code",
   "execution_count": 78,
   "metadata": {},
   "outputs": [
    {
     "name": "stdout",
     "output_type": "stream",
     "text": [
      "17.1 s ± 445 ms per loop (mean ± std. dev. of 7 runs, 1 loop each)\n"
     ]
    }
   ],
   "source": [
    "N = 100000\n",
    "\n",
    "bucket = equalise(bucket)\n",
    "bucket_sample = [dates(bucket) for iter in range(N)]"
   ]
  },
  {
   "cell_type": "code",
   "execution_count": 79,
   "metadata": {
    "scrolled": false
   },
   "outputs": [
    {
     "data": {
      "image/png": "[encoded data removed]",
      "text/plain": [
       "<Figure size 864x432 with 1 Axes>"
      ]
     },
     "metadata": {
      "needs_background": "light"
     },
     "output_type": "display_data"
    },
    {
     "name": "stdout",
     "output_type": "stream",
     "text": [
      "Couple first most likely values: [18 21 19 17 22 20 16 23 24 25]\n",
      "Average value: 24.57993\n"
     ]
    }
   ],
   "source": [
    "plt.figure(figsize=(12, 6))\n",
    "plt.hist(bucket_sample, bins=range(1, 101))\n",
    "plt.show()\n",
    "\n",
    "vals, counts = np.unique(bucket_sample, return_counts=True)\n",
    "k_counts = vals[np.argsort(counts)][::-1]\n",
    "\n",
    "print('Couple first most likely values: {}'.format(k_counts[:10]))\n",
    "print('Average value: {}'.format(np.mean(bucket_sample)))"
   ]
  },
  {
   "cell_type": "markdown",
   "metadata": {},
   "source": [
    "\n",
    "**Problem 2d.** Show that the frequency histogram for empirical birthday frequencies can actually be computed exactly, and implement your idea. To this end, design a recurence relation using conditional probabilities and use dynamic programming."
   ]
  },
  {
   "cell_type": "markdown",
   "metadata": {},
   "source": [
    "**BONUS**. An alternative plotting library: plotly"
   ]
  }
 ],
 "metadata": {
  "kernelspec": {
   "display_name": "Python 3",
   "language": "python",
   "name": "python3"
  },
  "language_info": {
   "codemirror_mode": {
    "name": "ipython",
    "version": 3
   },
   "file_extension": ".py",
   "mimetype": "text/x-python",
   "name": "python",
   "nbconvert_exporter": "python",
   "pygments_lexer": "ipython3",
   "version": "3.8.5"
  }
 },
 "nbformat": 4,
 "nbformat_minor": 1
}
